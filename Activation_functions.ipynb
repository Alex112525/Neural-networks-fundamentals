{
  "nbformat": 4,
  "nbformat_minor": 0,
  "metadata": {
    "colab": {
      "provenance": [],
      "authorship_tag": "ABX9TyOz+0DBxN3mCgL02desunpq",
      "include_colab_link": true
    },
    "kernelspec": {
      "name": "python3",
      "display_name": "Python 3"
    },
    "language_info": {
      "name": "python"
    }
  },
  "cells": [
    {
      "cell_type": "markdown",
      "metadata": {
        "id": "view-in-github",
        "colab_type": "text"
      },
      "source": [
        "<a href=\"https://colab.research.google.com/github/Alex112525/Neural-networks-fundamentals/blob/main/Activation_functions.ipynb\" target=\"_parent\"><img src=\"https://colab.research.google.com/assets/colab-badge.svg\" alt=\"Open In Colab\"/></a>"
      ]
    },
    {
      "cell_type": "code",
      "execution_count": null,
      "metadata": {
        "id": "bmG8-URQl9F6"
      },
      "outputs": [],
      "source": [
        "import numpy as np\n",
        "import matplotlib.pyplot as plt"
      ]
    },
    {
      "cell_type": "markdown",
      "source": [
        "Test Data"
      ],
      "metadata": {
        "id": "AtKM_AhnfQS9"
      }
    },
    {
      "cell_type": "code",
      "source": [
        "vals = np.linspace(-10, 10, 50)\n",
        "vals"
      ],
      "metadata": {
        "colab": {
          "base_uri": "https://localhost:8080/"
        },
        "id": "w4wgJdmTm1er",
        "outputId": "dc74f410-db9f-4e4f-b7f1-e15c54a3f0d0"
      },
      "execution_count": null,
      "outputs": [
        {
          "output_type": "execute_result",
          "data": {
            "text/plain": [
              "array([-10.        ,  -9.59183673,  -9.18367347,  -8.7755102 ,\n",
              "        -8.36734694,  -7.95918367,  -7.55102041,  -7.14285714,\n",
              "        -6.73469388,  -6.32653061,  -5.91836735,  -5.51020408,\n",
              "        -5.10204082,  -4.69387755,  -4.28571429,  -3.87755102,\n",
              "        -3.46938776,  -3.06122449,  -2.65306122,  -2.24489796,\n",
              "        -1.83673469,  -1.42857143,  -1.02040816,  -0.6122449 ,\n",
              "        -0.20408163,   0.20408163,   0.6122449 ,   1.02040816,\n",
              "         1.42857143,   1.83673469,   2.24489796,   2.65306122,\n",
              "         3.06122449,   3.46938776,   3.87755102,   4.28571429,\n",
              "         4.69387755,   5.10204082,   5.51020408,   5.91836735,\n",
              "         6.32653061,   6.73469388,   7.14285714,   7.55102041,\n",
              "         7.95918367,   8.36734694,   8.7755102 ,   9.18367347,\n",
              "         9.59183673,  10.        ])"
            ]
          },
          "metadata": {},
          "execution_count": 2
        }
      ]
    },
    {
      "cell_type": "markdown",
      "source": [
        "#Sigmoid function \n",
        "\n",
        "A sigmoid function is a mathematical function with an \"S\" shaped curve that maps any input value to a value between 0 and 1. It is often used in machine learning and statistics for binary classification problems and to model the probability of an event."
      ],
      "metadata": {
        "id": "gW7ovyubfVEY"
      }
    },
    {
      "cell_type": "code",
      "source": [
        "def sigmoid(z):\n",
        "  return 1 / (1 + np.exp(-z))"
      ],
      "metadata": {
        "id": "7go1DIlYmian"
      },
      "execution_count": null,
      "outputs": []
    },
    {
      "cell_type": "code",
      "source": [
        "plt.plot(vals, sigmoid(vals))"
      ],
      "metadata": {
        "colab": {
          "base_uri": "https://localhost:8080/",
          "height": 282
        },
        "id": "f-lEx-zPnED0",
        "outputId": "0a0d7a30-8257-4e1b-ea62-1833adf0a982"
      },
      "execution_count": null,
      "outputs": [
        {
          "output_type": "execute_result",
          "data": {
            "text/plain": [
              "[<matplotlib.lines.Line2D at 0x7f818d6cb3d0>]"
            ]
          },
          "metadata": {},
          "execution_count": 5
        },
        {
          "output_type": "display_data",
          "data": {
            "text/plain": [
              "<Figure size 432x288 with 1 Axes>"
            ],
            "image/png": "[encoded data removed]"
          },
          "metadata": {
            "needs_background": "light"
          }
        }
      ]
    },
    {
      "cell_type": "markdown",
      "source": [
        "#Step Function\n",
        "\n",
        "A step function is a piecewise function with constant values in different intervals. It has \"steps\" that \"jump\" from one constant value to another, hence the name."
      ],
      "metadata": {
        "id": "8nDlIb--fsQu"
      }
    },
    {
      "cell_type": "code",
      "source": [
        "def step(z):\n",
        "  return np.piecewise(z, [z<=0, z>0], [0, 1])"
      ],
      "metadata": {
        "colab": {
          "base_uri": "https://localhost:8080/"
        },
        "id": "hr2utZDknVra",
        "outputId": "c9e2b00a-8cda-4b2d-deea-6c7474b2e572"
      },
      "execution_count": null,
      "outputs": [
        {
          "output_type": "execute_result",
          "data": {
            "text/plain": [
              "array(1.)"
            ]
          },
          "metadata": {},
          "execution_count": 26
        }
      ]
    },
    {
      "cell_type": "code",
      "source": [
        "plt.plot(vals, step(vals))"
      ],
      "metadata": {
        "colab": {
          "base_uri": "https://localhost:8080/",
          "height": 282
        },
        "id": "aNHYRyXHncf-",
        "outputId": "fa93a80a-faea-4ee9-fd47-9e14c6e8f5fe"
      },
      "execution_count": null,
      "outputs": [
        {
          "output_type": "execute_result",
          "data": {
            "text/plain": [
              "[<matplotlib.lines.Line2D at 0x7f818d1a0580>]"
            ]
          },
          "metadata": {},
          "execution_count": 18
        },
        {
          "output_type": "display_data",
          "data": {
            "text/plain": [
              "<Figure size 432x288 with 1 Axes>"
            ],
            "image/png": "[encoded data removed]"
          },
          "metadata": {
            "needs_background": "light"
          }
        }
      ]
    },
    {
      "cell_type": "markdown",
      "source": [
        "#ReLU\n",
        "\n",
        "The Rectified Linear Unit (ReLU) function is a commonly used activation function in deep learning. It is defined as f(x) = max(0, x), where x is the input to the function. The ReLU function returns 0 if the input is negative, and the input itself if the input is positive. This activation function is used in artificial neural networks to introduce non-linearity in the model."
      ],
      "metadata": {
        "id": "NtHCi0Hxf_eC"
      }
    },
    {
      "cell_type": "code",
      "source": [
        "def ReLU(z):\n",
        "  return np.piecewise(z, [z<=0, z>0], [0, lambda z:z])"
      ],
      "metadata": {
        "id": "o5BHAMRcoxIO"
      },
      "execution_count": null,
      "outputs": []
    },
    {
      "cell_type": "code",
      "source": [
        "plt.plot(vals, ReLU(vals))"
      ],
      "metadata": {
        "colab": {
          "base_uri": "https://localhost:8080/",
          "height": 282
        },
        "id": "H36zd8tjpWR6",
        "outputId": "74ef1e20-9508-4b9c-cd49-14887d2b7b7a"
      },
      "execution_count": null,
      "outputs": [
        {
          "output_type": "execute_result",
          "data": {
            "text/plain": [
              "[<matplotlib.lines.Line2D at 0x7f818d0fff10>]"
            ]
          },
          "metadata": {},
          "execution_count": 36
        },
        {
          "output_type": "display_data",
          "data": {
            "text/plain": [
              "<Figure size 432x288 with 1 Axes>"
            ],
            "image/png": "[encoded data removed]"
          },
          "metadata": {
            "needs_background": "light"
          }
        }
      ]
    },
    {
      "cell_type": "markdown",
      "source": [
        "#TanH\n",
        "\n",
        "The Hyperbolic Tangent (tanh) function is a commonly used activation function in deep learning and artificial neural networks. It maps its input values from the range (-∞, +∞) to the range of (-1, +1).\n",
        "The tanh function has a similar shape to the sigmoid function, but has the advantage of having outputs centered around 0, which helps in preventing saturation in the hidden layers of deep neural networks."
      ],
      "metadata": {
        "id": "UCOUlAsLgX_s"
      }
    },
    {
      "cell_type": "code",
      "source": [
        "def tanh(z):\n",
        "  return np.tanh(z)"
      ],
      "metadata": {
        "id": "R3Cz82Ctpxxi"
      },
      "execution_count": null,
      "outputs": []
    },
    {
      "cell_type": "code",
      "source": [
        "plt.plot(vals, tanh(vals))"
      ],
      "metadata": {
        "colab": {
          "base_uri": "https://localhost:8080/",
          "height": 282
        },
        "id": "glCh2Qlup6eF",
        "outputId": "225f07bd-e30c-44d5-9625-3c52436e652b"
      },
      "execution_count": null,
      "outputs": [
        {
          "output_type": "execute_result",
          "data": {
            "text/plain": [
              "[<matplotlib.lines.Line2D at 0x7f818d01d0a0>]"
            ]
          },
          "metadata": {},
          "execution_count": 39
        },
        {
          "output_type": "display_data",
          "data": {
            "text/plain": [
              "<Figure size 432x288 with 1 Axes>"
            ],
            "image/png": "[encoded data removed]"
          },
          "metadata": {
            "needs_background": "light"
          }
        }
      ]
    }
  ]
}