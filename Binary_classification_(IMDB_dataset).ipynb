{
  "nbformat": 4,
  "nbformat_minor": 0,
  "metadata": {
    "colab": {
      "provenance": [],
      "authorship_tag": "ABX9TyOGMpjAZRQX9hXXzijXCUb2",
      "include_colab_link": true
    },
    "kernelspec": {
      "name": "python3",
      "display_name": "Python 3"
    },
    "language_info": {
      "name": "python"
    },
    "accelerator": "GPU",
    "gpuClass": "standard"
  },
  "cells": [
    {
      "cell_type": "markdown",
      "metadata": {
        "id": "view-in-github",
        "colab_type": "text"
      },
      "source": [
        "<a href=\"https://colab.research.google.com/github/Alex112525/Neural-networks-fundamentals/blob/main/Binary_classification_(IMDB_dataset).ipynb\" target=\"_parent\"><img src=\"https://colab.research.google.com/assets/colab-badge.svg\" alt=\"Open In Colab\"/></a>"
      ]
    },
    {
      "cell_type": "code",
      "execution_count": null,
      "metadata": {
        "id": "J11I8Mtggb0i"
      },
      "outputs": [],
      "source": [
        "import numpy as np\n",
        "import matplotlib.pyplot as plt\n",
        "from keras.datasets import imdb\n",
        "from keras import regularizers\n",
        "from keras import models, layers, optimizers"
      ]
    },
    {
      "cell_type": "markdown",
      "source": [
        "#Import Dataset\n",
        "\n",
        "The IMDb dataset is a dataset related to movie reviews and sentiment analysis. It consists of 25,000 highly polar movie reviews for training and 25,000 for testing, split evenly into positive and negative reviews. The data has been pre-processed, where words have been encoded as integers, and the labels are binary (positive/negative). This dataset is widely used for sentiment analysis tasks and is often used as a benchmark for evaluating the performance of different machine learning models."
      ],
      "metadata": {
        "id": "1uXWgKSSuRHa"
      }
    },
    {
      "cell_type": "code",
      "source": [
        "(train_data, train_labels), (test_data, test_labels) = imdb.load_data(num_words=10000)"
      ],
      "metadata": {
        "id": "DFTrhBGDiCRf"
      },
      "execution_count": null,
      "outputs": []
    },
    {
      "cell_type": "code",
      "source": [
        "train_data.shape"
      ],
      "metadata": {
        "colab": {
          "base_uri": "https://localhost:8080/"
        },
        "id": "h07W-XKmifeJ",
        "outputId": "3c25b1c3-bc99-4352-8139-b586e19354fa"
      },
      "execution_count": null,
      "outputs": [
        {
          "output_type": "execute_result",
          "data": {
            "text/plain": [
              "(25000,)"
            ]
          },
          "metadata": {},
          "execution_count": 4
        }
      ]
    },
    {
      "cell_type": "code",
      "source": [
        "index_words = { key:value for value, key in imdb.get_word_index().items()}\n",
        "index_words"
      ],
      "metadata": {
        "id": "kvgO1bSEi7vm"
      },
      "execution_count": null,
      "outputs": []
    },
    {
      "cell_type": "code",
      "source": [
        "for i in train_data[2]:\n",
        "  print(index_words.get(i-3), end=\" \")"
      ],
      "metadata": {
        "colab": {
          "base_uri": "https://localhost:8080/"
        },
        "id": "tbxHFky0jHI5",
        "outputId": "b47eebef-ff0f-4c91-cc2d-df74b7711b6a"
      },
      "execution_count": null,
      "outputs": [
        {
          "output_type": "stream",
          "name": "stdout",
          "text": [
            "None this has to be one of the worst films of the 1990s when my friends i were watching this film being the target audience it was aimed at we just sat watched the first half an hour with our jaws touching the floor at how bad it really was the rest of the time everyone else in the theatre just started talking to each other leaving or generally crying into their popcorn that they actually paid money they had None working to watch this feeble excuse for a film it must have looked like a great idea on paper but on film it looks like no one in the film has a clue what is going on crap acting crap costumes i can't get across how None this is to watch save yourself an hour a bit of your life "
          ]
        }
      ]
    },
    {
      "cell_type": "markdown",
      "source": [
        "The purpose of the function is to perform one-hot encoding of the sequences, which is a common preprocessing step in text classification and NLP tasks. The input parameter dim represents the size of the vocabulary or the number of unique words in the text."
      ],
      "metadata": {
        "id": "AJQvU5B6vHiZ"
      }
    },
    {
      "cell_type": "code",
      "source": [
        "def vectorize(sequence, dim=10000):\n",
        "  results = np.zeros((len(sequence), dim))\n",
        "  for i, seq in enumerate(sequence):\n",
        "    results[i, seq] = 1\n",
        "  return results"
      ],
      "metadata": {
        "id": "TkcIrUS-kKcr"
      },
      "execution_count": null,
      "outputs": []
    },
    {
      "cell_type": "code",
      "source": [
        "x_train = vectorize(train_data)\n",
        "x_test = vectorize(test_data)"
      ],
      "metadata": {
        "id": "l2emk-LglrLk"
      },
      "execution_count": null,
      "outputs": []
    },
    {
      "cell_type": "code",
      "source": [
        "y_train = np.asarray(train_labels).astype(\"float32\")\n",
        "y_test = np.asarray(test_labels).astype(\"float32\")"
      ],
      "metadata": {
        "id": "WqsBQ9y6mKn5"
      },
      "execution_count": null,
      "outputs": []
    },
    {
      "cell_type": "code",
      "source": [
        "x_train[1]"
      ],
      "metadata": {
        "colab": {
          "base_uri": "https://localhost:8080/"
        },
        "id": "WUA2yGKVl7l9",
        "outputId": "40e5ea6e-ed87-4a1f-8a8c-f5624bab37d1"
      },
      "execution_count": null,
      "outputs": [
        {
          "output_type": "execute_result",
          "data": {
            "text/plain": [
              "array([0., 1., 1., ..., 0., 0., 0.])"
            ]
          },
          "metadata": {},
          "execution_count": 19
        }
      ]
    },
    {
      "cell_type": "markdown",
      "source": [
        "#Build model"
      ],
      "metadata": {
        "id": "7qcKHc3xvTSx"
      }
    },
    {
      "cell_type": "code",
      "source": [
        "model = models.Sequential()\n",
        "model.add(layers.Dense(16, activation=\"relu\", input_shape = (10000,)))\n",
        "model.add(layers.Dense(16, activation=\"relu\"))\n",
        "model.add(layers.Dense(1, activation=\"sigmoid\"))"
      ],
      "metadata": {
        "id": "_aKH_jkLoafl"
      },
      "execution_count": null,
      "outputs": []
    },
    {
      "cell_type": "markdown",
      "source": [
        "Binary cross entropy is a loss function used in binary classification problems in machine learning. It measures the distance between the true binary labels and the predicted probability values for the class with higher predicted probability.\n",
        "\n",
        "RMSprop works by dividing the learning rate for each weight by a running average of the magnitudes of recent gradient updates for that weight. This helps to reduce the oscillations that can arise when using gradient descent, and can result in faster convergence."
      ],
      "metadata": {
        "id": "XCZcdj03vnRY"
      }
    },
    {
      "cell_type": "code",
      "source": [
        "model.compile(optimizer=\"rmsprop\",\n",
        "              loss=\"binary_crossentropy\",\n",
        "              metrics=\"accuracy\")"
      ],
      "metadata": {
        "id": "1r_gNyripBPo"
      },
      "execution_count": null,
      "outputs": []
    },
    {
      "cell_type": "markdown",
      "source": [
        "The validation_split is used to specify the fraction of the training data that should be used as validation data. \n",
        "The validation data is used to monitor the training process and evaluate the model performance. This argument is often used in a training/validation/testing data split, where a portion of the training data is set aside as validation data, and another portion is used as test data."
      ],
      "metadata": {
        "id": "ZYD8qIkowRY3"
      }
    },
    {
      "cell_type": "code",
      "source": [
        "Model = model.fit(x_train, y_train,\n",
        "                    epochs = 20,\n",
        "                    batch_size=512,\n",
        "                    validation_split=0.3)"
      ],
      "metadata": {
        "colab": {
          "base_uri": "https://localhost:8080/"
        },
        "id": "kGrSdhA8qGce",
        "outputId": "4d420d1c-abbc-44b0-de45-7d7b33a89e22"
      },
      "execution_count": null,
      "outputs": [
        {
          "output_type": "stream",
          "name": "stdout",
          "text": [
            "Epoch 1/20\n",
            "35/35 [==============================] - 1s 30ms/step - loss: 0.1095 - accuracy: 0.9639 - val_loss: 0.2437 - val_accuracy: 0.9133\n",
            "Epoch 2/20\n",
            "35/35 [==============================] - 1s 19ms/step - loss: 0.0945 - accuracy: 0.9700 - val_loss: 0.2626 - val_accuracy: 0.9080\n",
            "Epoch 3/20\n",
            "35/35 [==============================] - 1s 18ms/step - loss: 0.0797 - accuracy: 0.9762 - val_loss: 0.3252 - val_accuracy: 0.8921\n",
            "Epoch 4/20\n",
            "35/35 [==============================] - 1s 19ms/step - loss: 0.0693 - accuracy: 0.9800 - val_loss: 0.3125 - val_accuracy: 0.8964\n",
            "Epoch 5/20\n",
            "35/35 [==============================] - 1s 18ms/step - loss: 0.0584 - accuracy: 0.9840 - val_loss: 0.3346 - val_accuracy: 0.8943\n",
            "Epoch 6/20\n",
            "35/35 [==============================] - 1s 18ms/step - loss: 0.0486 - accuracy: 0.9875 - val_loss: 0.4068 - val_accuracy: 0.8837\n",
            "Epoch 7/20\n",
            "35/35 [==============================] - 1s 19ms/step - loss: 0.0401 - accuracy: 0.9907 - val_loss: 0.3917 - val_accuracy: 0.8861\n",
            "Epoch 8/20\n",
            "35/35 [==============================] - 1s 18ms/step - loss: 0.0365 - accuracy: 0.9911 - val_loss: 0.4197 - val_accuracy: 0.8845\n",
            "Epoch 9/20\n",
            "35/35 [==============================] - 1s 18ms/step - loss: 0.0301 - accuracy: 0.9926 - val_loss: 0.4487 - val_accuracy: 0.8831\n",
            "Epoch 10/20\n",
            "35/35 [==============================] - 1s 19ms/step - loss: 0.0229 - accuracy: 0.9953 - val_loss: 0.4855 - val_accuracy: 0.8820\n",
            "Epoch 11/20\n",
            "35/35 [==============================] - 1s 18ms/step - loss: 0.0194 - accuracy: 0.9960 - val_loss: 0.5200 - val_accuracy: 0.8805\n",
            "Epoch 12/20\n",
            "35/35 [==============================] - 1s 18ms/step - loss: 0.0149 - accuracy: 0.9977 - val_loss: 0.5550 - val_accuracy: 0.8769\n",
            "Epoch 13/20\n",
            "35/35 [==============================] - 1s 19ms/step - loss: 0.0128 - accuracy: 0.9979 - val_loss: 0.5920 - val_accuracy: 0.8756\n",
            "Epoch 14/20\n",
            "35/35 [==============================] - 1s 18ms/step - loss: 0.0114 - accuracy: 0.9978 - val_loss: 0.6223 - val_accuracy: 0.8747\n",
            "Epoch 15/20\n",
            "35/35 [==============================] - 1s 18ms/step - loss: 0.0066 - accuracy: 0.9994 - val_loss: 0.6603 - val_accuracy: 0.8713\n",
            "Epoch 16/20\n",
            "35/35 [==============================] - 1s 18ms/step - loss: 0.0103 - accuracy: 0.9977 - val_loss: 0.6960 - val_accuracy: 0.8733\n",
            "Epoch 17/20\n",
            "35/35 [==============================] - 1s 19ms/step - loss: 0.0033 - accuracy: 0.9999 - val_loss: 0.7216 - val_accuracy: 0.8721\n",
            "Epoch 18/20\n",
            "35/35 [==============================] - 1s 18ms/step - loss: 0.0060 - accuracy: 0.9990 - val_loss: 0.7565 - val_accuracy: 0.8716\n",
            "Epoch 19/20\n",
            "35/35 [==============================] - 1s 18ms/step - loss: 0.0056 - accuracy: 0.9987 - val_loss: 0.7966 - val_accuracy: 0.8688\n",
            "Epoch 20/20\n",
            "35/35 [==============================] - 1s 22ms/step - loss: 0.0018 - accuracy: 0.9999 - val_loss: 0.8117 - val_accuracy: 0.8700\n"
          ]
        }
      ]
    },
    {
      "cell_type": "markdown",
      "source": [
        "#Results"
      ],
      "metadata": {
        "id": "GdV4c3_Mwk5e"
      }
    },
    {
      "cell_type": "code",
      "source": [
        "his_dic = Model.history"
      ],
      "metadata": {
        "id": "_hS89_hyq2Zh"
      },
      "execution_count": null,
      "outputs": []
    },
    {
      "cell_type": "code",
      "source": [
        "epoch=range(1,21)\n",
        "plt.plot(epoch, his_dic[\"loss\"], \"o\", label=\"Loss\")\n",
        "plt.plot(epoch, his_dic[\"val_loss\"], \"--\", label=\"Val_loss\")\n",
        "plt.legend()\n",
        "plt.show()"
      ],
      "metadata": {
        "colab": {
          "base_uri": "https://localhost:8080/",
          "height": 265
        },
        "id": "5y9GKwZ6rIit",
        "outputId": "f41960f1-712d-4b75-da23-85be8ba45771"
      },
      "execution_count": null,
      "outputs": [
        {
          "output_type": "display_data",
          "data": {
            "text/plain": [
              "<Figure size 432x288 with 1 Axes>"
            ],
            "image/png": "[encoded data removed]"
          },
          "metadata": {
            "needs_background": "light"
          }
        }
      ]
    },
    {
      "cell_type": "markdown",
      "source": [
        "#Techniques to solve overfitting"
      ],
      "metadata": {
        "id": "aP1VgdIFwhJD"
      }
    },
    {
      "cell_type": "markdown",
      "source": [
        " **Less complex model**\n",
        "\n",
        "A model with fewer neurons can help solve overfitting by reducing the capacity of the model. With a reduced capacity, the model is less likely to fit the noise in the training data and instead learn a more general representation of the underlying patterns in the data. \n",
        "\n",
        "Overfitting sometimes occurs when a model is too complex and fits the training data too well, resulting in poor performance on unseen data."
      ],
      "metadata": {
        "id": "6f8ENXXev4eN"
      }
    },
    {
      "cell_type": "code",
      "source": [
        "less_model = models.Sequential()\n",
        "less_model.add(layers.Dense(8, activation=\"relu\", input_shape = (10000,)))\n",
        "less_model.add(layers.Dense(8, activation=\"relu\"))\n",
        "less_model.add(layers.Dense(1, activation=\"sigmoid\"))\n",
        "\n",
        "less_model.compile(optimizer=\"rmsprop\",\n",
        "              loss=\"binary_crossentropy\",\n",
        "              metrics=\"accuracy\")"
      ],
      "metadata": {
        "id": "Gbvp0zPrviCw"
      },
      "execution_count": null,
      "outputs": []
    },
    {
      "cell_type": "code",
      "source": [
        "Less_model = less_model.fit(x_train, y_train,\n",
        "                    epochs = 20,\n",
        "                    batch_size=512,\n",
        "                    validation_split=0.3)"
      ],
      "metadata": {
        "id": "Kx8smloiwQLQ"
      },
      "execution_count": null,
      "outputs": []
    },
    {
      "cell_type": "code",
      "source": [
        "his_dic2 = Less_model.history\n",
        "epoch=range(1,21)\n",
        "plt.plot(epoch, his_dic2[\"loss\"], \"o\", label=\"Loss\")\n",
        "plt.plot(epoch, his_dic2[\"val_loss\"], \"--\", label=\"Val_loss\")\n",
        "plt.legend()\n",
        "plt.show()"
      ],
      "metadata": {
        "colab": {
          "base_uri": "https://localhost:8080/",
          "height": 265
        },
        "id": "raVjntJOwwb7",
        "outputId": "bbaf3db4-feea-436f-b5f6-22a731e9e916"
      },
      "execution_count": null,
      "outputs": [
        {
          "output_type": "display_data",
          "data": {
            "text/plain": [
              "<Figure size 432x288 with 1 Axes>"
            ],
            "image/png": "[encoded data removed]"
          },
          "metadata": {
            "needs_background": "light"
          }
        }
      ]
    },
    {
      "cell_type": "markdown",
      "source": [
        "**Regularizers**\n",
        "\n",
        "The goal of regularization is to find a balance between the model's ability to fit the training data and its generalization ability, i.e. its ability to perform well on unseen data. By adding a penalty term, the model is forced to find a simpler representation of the data that still captures the important patterns in the data while avoiding overfitting."
      ],
      "metadata": {
        "id": "A46l0aKVxuTC"
      }
    },
    {
      "cell_type": "code",
      "source": [
        "reg_model = models.Sequential()\n",
        "reg_model.add(layers.Dense(16, activation=\"relu\", input_shape = (10000,), kernel_regularizer=regularizers.l2(0.001)))\n",
        "reg_model.add(layers.Dense(16, activation=\"relu\", kernel_regularizer=regularizers.l2(0.001)))\n",
        "reg_model.add(layers.Dense(1, activation=\"sigmoid\"))\n",
        "\n",
        "reg_model.compile(optimizer=\"rmsprop\",\n",
        "              loss=\"binary_crossentropy\",\n",
        "              metrics=\"accuracy\")"
      ],
      "metadata": {
        "id": "DXfL6xczxwjN"
      },
      "execution_count": null,
      "outputs": []
    },
    {
      "cell_type": "code",
      "source": [
        "Reg_model = reg_model.fit(x_train, y_train,\n",
        "                    epochs = 20,\n",
        "                    batch_size=512,\n",
        "                    validation_split=0.3)"
      ],
      "metadata": {
        "colab": {
          "base_uri": "https://localhost:8080/"
        },
        "id": "zcnFXn3Uyjmz",
        "outputId": "a35e7011-5c92-481a-e6f3-5c62ee25ec55"
      },
      "execution_count": null,
      "outputs": [
        {
          "output_type": "stream",
          "name": "stdout",
          "text": [
            "Epoch 1/20\n",
            "35/35 [==============================] - 2s 28ms/step - loss: 0.5394 - accuracy: 0.8091 - val_loss: 0.4176 - val_accuracy: 0.8760\n",
            "Epoch 2/20\n",
            "35/35 [==============================] - 1s 18ms/step - loss: 0.3537 - accuracy: 0.8987 - val_loss: 0.3461 - val_accuracy: 0.8885\n",
            "Epoch 3/20\n",
            "35/35 [==============================] - 1s 19ms/step - loss: 0.2954 - accuracy: 0.9153 - val_loss: 0.3459 - val_accuracy: 0.8797\n",
            "Epoch 4/20\n",
            "35/35 [==============================] - 1s 19ms/step - loss: 0.2647 - accuracy: 0.9262 - val_loss: 0.3724 - val_accuracy: 0.8728\n",
            "Epoch 5/20\n",
            "35/35 [==============================] - 1s 19ms/step - loss: 0.2457 - accuracy: 0.9349 - val_loss: 0.3705 - val_accuracy: 0.8741\n",
            "Epoch 6/20\n",
            "35/35 [==============================] - 1s 19ms/step - loss: 0.2326 - accuracy: 0.9397 - val_loss: 0.3329 - val_accuracy: 0.8872\n",
            "Epoch 7/20\n",
            "35/35 [==============================] - 1s 19ms/step - loss: 0.2239 - accuracy: 0.9447 - val_loss: 0.3393 - val_accuracy: 0.8859\n",
            "Epoch 8/20\n",
            "35/35 [==============================] - 1s 19ms/step - loss: 0.2141 - accuracy: 0.9457 - val_loss: 0.3474 - val_accuracy: 0.8828\n",
            "Epoch 9/20\n",
            "35/35 [==============================] - 1s 19ms/step - loss: 0.2080 - accuracy: 0.9485 - val_loss: 0.3563 - val_accuracy: 0.8816\n",
            "Epoch 10/20\n",
            "35/35 [==============================] - 1s 19ms/step - loss: 0.2040 - accuracy: 0.9517 - val_loss: 0.3589 - val_accuracy: 0.8832\n",
            "Epoch 11/20\n",
            "35/35 [==============================] - 1s 18ms/step - loss: 0.1986 - accuracy: 0.9529 - val_loss: 0.3703 - val_accuracy: 0.8792\n",
            "Epoch 12/20\n",
            "35/35 [==============================] - 1s 19ms/step - loss: 0.1900 - accuracy: 0.9573 - val_loss: 0.3727 - val_accuracy: 0.8813\n",
            "Epoch 13/20\n",
            "35/35 [==============================] - 1s 19ms/step - loss: 0.1890 - accuracy: 0.9547 - val_loss: 0.3759 - val_accuracy: 0.8821\n",
            "Epoch 14/20\n",
            "35/35 [==============================] - 1s 19ms/step - loss: 0.1844 - accuracy: 0.9587 - val_loss: 0.3863 - val_accuracy: 0.8764\n",
            "Epoch 15/20\n",
            "35/35 [==============================] - 1s 19ms/step - loss: 0.1803 - accuracy: 0.9598 - val_loss: 0.4132 - val_accuracy: 0.8724\n",
            "Epoch 16/20\n",
            "35/35 [==============================] - 1s 18ms/step - loss: 0.1783 - accuracy: 0.9605 - val_loss: 0.3998 - val_accuracy: 0.8771\n",
            "Epoch 17/20\n",
            "35/35 [==============================] - 1s 19ms/step - loss: 0.1722 - accuracy: 0.9625 - val_loss: 0.4011 - val_accuracy: 0.8764\n",
            "Epoch 18/20\n",
            "35/35 [==============================] - 1s 19ms/step - loss: 0.1743 - accuracy: 0.9609 - val_loss: 0.4072 - val_accuracy: 0.8773\n",
            "Epoch 19/20\n",
            "35/35 [==============================] - 1s 19ms/step - loss: 0.1749 - accuracy: 0.9615 - val_loss: 0.4203 - val_accuracy: 0.8739\n",
            "Epoch 20/20\n",
            "35/35 [==============================] - 1s 19ms/step - loss: 0.1651 - accuracy: 0.9650 - val_loss: 0.4528 - val_accuracy: 0.8689\n"
          ]
        }
      ]
    },
    {
      "cell_type": "code",
      "source": [
        "his_dic3 = Reg_model.history\n",
        "epoch=range(1,21)\n",
        "plt.plot(epoch, his_dic3[\"loss\"], \"o\", label=\"Loss\")\n",
        "plt.plot(epoch, his_dic3[\"val_loss\"], \"--\", label=\"Val_loss\")\n",
        "plt.legend()\n",
        "plt.show()"
      ],
      "metadata": {
        "colab": {
          "base_uri": "https://localhost:8080/",
          "height": 265
        },
        "id": "y_E7PIrlzBoR",
        "outputId": "1875bd4c-aba1-49bf-d256-ed0b5aca8323"
      },
      "execution_count": null,
      "outputs": [
        {
          "output_type": "display_data",
          "data": {
            "text/plain": [
              "<Figure size 432x288 with 1 Axes>"
            ],
            "image/png": "[encoded data removed]"
          },
          "metadata": {
            "needs_background": "light"
          }
        }
      ]
    },
    {
      "cell_type": "markdown",
      "source": [
        "**Dropout** \n",
        "\n",
        "Dropout is a regularization technique used in neural networks to reduce overfitting. It works by randomly dropping out (i.e., setting to zero) some of the neurons during each iteration of training, effectively training multiple sub-models at once. By dropping out neurons, the model is prevented from relying too heavily on any single neuron's output, which can reduce overfitting and lead to improved generalization."
      ],
      "metadata": {
        "id": "X81YdGWhzht9"
      }
    },
    {
      "cell_type": "code",
      "source": [
        "drop_model = models.Sequential()\n",
        "drop_model.add(layers.Dense(16, activation=\"relu\", input_shape = (10000,)))\n",
        "drop_model.add(layers.Dropout(0.5))\n",
        "drop_model.add(layers.Dense(16, activation=\"relu\"))\n",
        "drop_model.add(layers.Dropout(0.5))\n",
        "drop_model.add(layers.Dense(1, activation=\"sigmoid\"))\n",
        "\n",
        "drop_model.compile(optimizer=\"rmsprop\",\n",
        "              loss=\"binary_crossentropy\",\n",
        "              metrics=\"accuracy\")"
      ],
      "metadata": {
        "id": "tKMIfIOgzjGi"
      },
      "execution_count": null,
      "outputs": []
    },
    {
      "cell_type": "code",
      "source": [
        "Drop_model = drop_model.fit(x_train, y_train,\n",
        "                    epochs = 20,\n",
        "                    batch_size=512,\n",
        "                    validation_split=0.3)"
      ],
      "metadata": {
        "colab": {
          "base_uri": "https://localhost:8080/"
        },
        "id": "vMuV8G0F0Sxj",
        "outputId": "aeb7dc63-8356-44fa-9afa-2cbd4e6bb896"
      },
      "execution_count": null,
      "outputs": [
        {
          "output_type": "stream",
          "name": "stdout",
          "text": [
            "Epoch 1/20\n",
            "35/35 [==============================] - 2s 30ms/step - loss: 0.6232 - accuracy: 0.6487 - val_loss: 0.4963 - val_accuracy: 0.8537\n",
            "Epoch 2/20\n",
            "35/35 [==============================] - 1s 18ms/step - loss: 0.4974 - accuracy: 0.7663 - val_loss: 0.3826 - val_accuracy: 0.8781\n",
            "Epoch 3/20\n",
            "35/35 [==============================] - 1s 19ms/step - loss: 0.4167 - accuracy: 0.8220 - val_loss: 0.3234 - val_accuracy: 0.8855\n",
            "Epoch 4/20\n",
            "35/35 [==============================] - 1s 19ms/step - loss: 0.3541 - accuracy: 0.8575 - val_loss: 0.2834 - val_accuracy: 0.8920\n",
            "Epoch 5/20\n",
            "35/35 [==============================] - 1s 19ms/step - loss: 0.3156 - accuracy: 0.8813 - val_loss: 0.2738 - val_accuracy: 0.8940\n",
            "Epoch 6/20\n",
            "35/35 [==============================] - 1s 19ms/step - loss: 0.2788 - accuracy: 0.8983 - val_loss: 0.2672 - val_accuracy: 0.8945\n",
            "Epoch 7/20\n",
            "35/35 [==============================] - 1s 19ms/step - loss: 0.2498 - accuracy: 0.9091 - val_loss: 0.2732 - val_accuracy: 0.8951\n",
            "Epoch 8/20\n",
            "35/35 [==============================] - 1s 19ms/step - loss: 0.2242 - accuracy: 0.9199 - val_loss: 0.2842 - val_accuracy: 0.8952\n",
            "Epoch 9/20\n",
            "35/35 [==============================] - 1s 19ms/step - loss: 0.1989 - accuracy: 0.9273 - val_loss: 0.3125 - val_accuracy: 0.8923\n",
            "Epoch 10/20\n",
            "35/35 [==============================] - 1s 19ms/step - loss: 0.1893 - accuracy: 0.9319 - val_loss: 0.3092 - val_accuracy: 0.8913\n",
            "Epoch 11/20\n",
            "35/35 [==============================] - 1s 19ms/step - loss: 0.1700 - accuracy: 0.9377 - val_loss: 0.3386 - val_accuracy: 0.8884\n",
            "Epoch 12/20\n",
            "35/35 [==============================] - 1s 19ms/step - loss: 0.1600 - accuracy: 0.9402 - val_loss: 0.3592 - val_accuracy: 0.8909\n",
            "Epoch 13/20\n",
            "35/35 [==============================] - 1s 18ms/step - loss: 0.1451 - accuracy: 0.9465 - val_loss: 0.3920 - val_accuracy: 0.8900\n",
            "Epoch 14/20\n",
            "35/35 [==============================] - 1s 19ms/step - loss: 0.1387 - accuracy: 0.9482 - val_loss: 0.3726 - val_accuracy: 0.8875\n",
            "Epoch 15/20\n",
            "35/35 [==============================] - 1s 18ms/step - loss: 0.1292 - accuracy: 0.9529 - val_loss: 0.4173 - val_accuracy: 0.8911\n",
            "Epoch 16/20\n",
            "35/35 [==============================] - 1s 19ms/step - loss: 0.1287 - accuracy: 0.9501 - val_loss: 0.4356 - val_accuracy: 0.8893\n",
            "Epoch 17/20\n",
            "35/35 [==============================] - 1s 20ms/step - loss: 0.1232 - accuracy: 0.9529 - val_loss: 0.4625 - val_accuracy: 0.8885\n",
            "Epoch 18/20\n",
            "35/35 [==============================] - 1s 20ms/step - loss: 0.1159 - accuracy: 0.9563 - val_loss: 0.4829 - val_accuracy: 0.8877\n",
            "Epoch 19/20\n",
            "35/35 [==============================] - 1s 19ms/step - loss: 0.1065 - accuracy: 0.9585 - val_loss: 0.5244 - val_accuracy: 0.8869\n",
            "Epoch 20/20\n",
            "35/35 [==============================] - 1s 19ms/step - loss: 0.1068 - accuracy: 0.9563 - val_loss: 0.5558 - val_accuracy: 0.8865\n"
          ]
        }
      ]
    },
    {
      "cell_type": "code",
      "source": [
        "his_dic4 = Drop_model.history\n",
        "epoch=range(1,21)\n",
        "plt.plot(epoch, his_dic2[\"loss\"], \"o\", label=\"Loss\")\n",
        "plt.plot(epoch, his_dic2[\"val_loss\"], \"--\", label=\"Val_loss\")\n",
        "plt.legend()\n",
        "plt.show()"
      ],
      "metadata": {
        "colab": {
          "base_uri": "https://localhost:8080/",
          "height": 265
        },
        "id": "DMmGQJdh0TIr",
        "outputId": "e54e1e30-6358-4197-a81b-7ad3d3e4db88"
      },
      "execution_count": null,
      "outputs": [
        {
          "output_type": "display_data",
          "data": {
            "text/plain": [
              "<Figure size 432x288 with 1 Axes>"
            ],
            "image/png": "[encoded data removed]"
          },
          "metadata": {
            "needs_background": "light"
          }
        }
      ]
    },
    {
      "cell_type": "markdown",
      "source": [
        "# All techniques in a single model"
      ],
      "metadata": {
        "id": "F5uW5vxD06rg"
      }
    },
    {
      "cell_type": "code",
      "source": [
        "full_model = models.Sequential()\n",
        "full_model.add(layers.Dense(16, activation=\"relu\", input_shape = (10000,), kernel_regularizer=regularizers.l2(0.001)))\n",
        "full_model.add(layers.Dropout(0.5))\n",
        "full_model.add(layers.Dense(8, activation=\"relu\", kernel_regularizer=regularizers.l2(0.001)))\n",
        "full_model.add(layers.Dropout(0.5))\n",
        "full_model.add(layers.Dense(1, activation=\"sigmoid\"))\n",
        "\n",
        "full_model.compile(optimizer=\"rmsprop\",\n",
        "              loss=\"binary_crossentropy\",\n",
        "              metrics=\"accuracy\")"
      ],
      "metadata": {
        "id": "jJhwgQ0d050n"
      },
      "execution_count": null,
      "outputs": []
    },
    {
      "cell_type": "code",
      "source": [
        "Full_model = full_model.fit(x_train, y_train,\n",
        "                    epochs = 50,\n",
        "                    batch_size=512,\n",
        "                    validation_split=0.3)"
      ],
      "metadata": {
        "colab": {
          "base_uri": "https://localhost:8080/"
        },
        "id": "mIcYLtCa1S-n",
        "outputId": "2cf64737-bffd-47d2-d705-03151d9dbbbb"
      },
      "execution_count": null,
      "outputs": [
        {
          "output_type": "stream",
          "name": "stdout",
          "text": [
            "Epoch 1/50\n",
            "35/35 [==============================] - 2s 31ms/step - loss: 0.6577 - accuracy: 0.6471 - val_loss: 0.5614 - val_accuracy: 0.7797\n",
            "Epoch 2/50\n",
            "35/35 [==============================] - 1s 27ms/step - loss: 0.5484 - accuracy: 0.7669 - val_loss: 0.4612 - val_accuracy: 0.8771\n",
            "Epoch 3/50\n",
            "35/35 [==============================] - 1s 28ms/step - loss: 0.4814 - accuracy: 0.8186 - val_loss: 0.3957 - val_accuracy: 0.8792\n",
            "Epoch 4/50\n",
            "35/35 [==============================] - 1s 27ms/step - loss: 0.4333 - accuracy: 0.8459 - val_loss: 0.3644 - val_accuracy: 0.8867\n",
            "Epoch 5/50\n",
            "35/35 [==============================] - 1s 28ms/step - loss: 0.4063 - accuracy: 0.8652 - val_loss: 0.3482 - val_accuracy: 0.8872\n",
            "Epoch 6/50\n",
            "35/35 [==============================] - 1s 22ms/step - loss: 0.3793 - accuracy: 0.8777 - val_loss: 0.3388 - val_accuracy: 0.8877\n",
            "Epoch 7/50\n",
            "35/35 [==============================] - 1s 19ms/step - loss: 0.3598 - accuracy: 0.8932 - val_loss: 0.3304 - val_accuracy: 0.8880\n",
            "Epoch 8/50\n",
            "35/35 [==============================] - 1s 18ms/step - loss: 0.3357 - accuracy: 0.9025 - val_loss: 0.3488 - val_accuracy: 0.8855\n",
            "Epoch 9/50\n",
            "35/35 [==============================] - 1s 18ms/step - loss: 0.3236 - accuracy: 0.9075 - val_loss: 0.3332 - val_accuracy: 0.8787\n",
            "Epoch 10/50\n",
            "35/35 [==============================] - 1s 19ms/step - loss: 0.3141 - accuracy: 0.9095 - val_loss: 0.3456 - val_accuracy: 0.8876\n",
            "Epoch 11/50\n",
            "35/35 [==============================] - 1s 22ms/step - loss: 0.3024 - accuracy: 0.9124 - val_loss: 0.3635 - val_accuracy: 0.8829\n",
            "Epoch 12/50\n",
            "35/35 [==============================] - 1s 19ms/step - loss: 0.2931 - accuracy: 0.9184 - val_loss: 0.3476 - val_accuracy: 0.8876\n",
            "Epoch 13/50\n",
            "35/35 [==============================] - 1s 18ms/step - loss: 0.2841 - accuracy: 0.9208 - val_loss: 0.3507 - val_accuracy: 0.8853\n",
            "Epoch 14/50\n",
            "35/35 [==============================] - 1s 19ms/step - loss: 0.2781 - accuracy: 0.9218 - val_loss: 0.4045 - val_accuracy: 0.8768\n",
            "Epoch 15/50\n",
            "35/35 [==============================] - 1s 19ms/step - loss: 0.2779 - accuracy: 0.9239 - val_loss: 0.3966 - val_accuracy: 0.8788\n",
            "Epoch 16/50\n",
            "35/35 [==============================] - 1s 19ms/step - loss: 0.2652 - accuracy: 0.9291 - val_loss: 0.3795 - val_accuracy: 0.8853\n",
            "Epoch 17/50\n",
            "35/35 [==============================] - 1s 19ms/step - loss: 0.2670 - accuracy: 0.9269 - val_loss: 0.3923 - val_accuracy: 0.8840\n",
            "Epoch 18/50\n",
            "35/35 [==============================] - 1s 19ms/step - loss: 0.2614 - accuracy: 0.9274 - val_loss: 0.4287 - val_accuracy: 0.8799\n",
            "Epoch 19/50\n",
            "35/35 [==============================] - 1s 20ms/step - loss: 0.2600 - accuracy: 0.9309 - val_loss: 0.3952 - val_accuracy: 0.8747\n",
            "Epoch 20/50\n",
            "35/35 [==============================] - 1s 18ms/step - loss: 0.2598 - accuracy: 0.9293 - val_loss: 0.3920 - val_accuracy: 0.8751\n",
            "Epoch 21/50\n",
            "35/35 [==============================] - 1s 19ms/step - loss: 0.2555 - accuracy: 0.9315 - val_loss: 0.4020 - val_accuracy: 0.8799\n",
            "Epoch 22/50\n",
            "35/35 [==============================] - 1s 19ms/step - loss: 0.2540 - accuracy: 0.9334 - val_loss: 0.4054 - val_accuracy: 0.8797\n",
            "Epoch 23/50\n",
            "35/35 [==============================] - 1s 19ms/step - loss: 0.2499 - accuracy: 0.9332 - val_loss: 0.4384 - val_accuracy: 0.8796\n",
            "Epoch 24/50\n",
            "35/35 [==============================] - 1s 19ms/step - loss: 0.2456 - accuracy: 0.9335 - val_loss: 0.4475 - val_accuracy: 0.8808\n",
            "Epoch 25/50\n",
            "35/35 [==============================] - 1s 19ms/step - loss: 0.2436 - accuracy: 0.9351 - val_loss: 0.4302 - val_accuracy: 0.8789\n",
            "Epoch 26/50\n",
            "35/35 [==============================] - 1s 19ms/step - loss: 0.2444 - accuracy: 0.9351 - val_loss: 0.4392 - val_accuracy: 0.8784\n",
            "Epoch 27/50\n",
            "35/35 [==============================] - 1s 19ms/step - loss: 0.2405 - accuracy: 0.9363 - val_loss: 0.4331 - val_accuracy: 0.8767\n",
            "Epoch 28/50\n",
            "35/35 [==============================] - 1s 18ms/step - loss: 0.2432 - accuracy: 0.9347 - val_loss: 0.4311 - val_accuracy: 0.8691\n",
            "Epoch 29/50\n",
            "35/35 [==============================] - 1s 19ms/step - loss: 0.2395 - accuracy: 0.9350 - val_loss: 0.4282 - val_accuracy: 0.8749\n",
            "Epoch 30/50\n",
            "35/35 [==============================] - 1s 19ms/step - loss: 0.2427 - accuracy: 0.9379 - val_loss: 0.4407 - val_accuracy: 0.8764\n",
            "Epoch 31/50\n",
            "35/35 [==============================] - 1s 19ms/step - loss: 0.2412 - accuracy: 0.9354 - val_loss: 0.4668 - val_accuracy: 0.8747\n",
            "Epoch 32/50\n",
            "35/35 [==============================] - 1s 19ms/step - loss: 0.2412 - accuracy: 0.9350 - val_loss: 0.4621 - val_accuracy: 0.8776\n",
            "Epoch 33/50\n",
            "35/35 [==============================] - 1s 19ms/step - loss: 0.2379 - accuracy: 0.9385 - val_loss: 0.4524 - val_accuracy: 0.8767\n",
            "Epoch 34/50\n",
            "35/35 [==============================] - 1s 18ms/step - loss: 0.2358 - accuracy: 0.9375 - val_loss: 0.4888 - val_accuracy: 0.8772\n",
            "Epoch 35/50\n",
            "35/35 [==============================] - 1s 20ms/step - loss: 0.2401 - accuracy: 0.9342 - val_loss: 0.4568 - val_accuracy: 0.8712\n",
            "Epoch 36/50\n",
            "35/35 [==============================] - 1s 19ms/step - loss: 0.2428 - accuracy: 0.9349 - val_loss: 0.4640 - val_accuracy: 0.8772\n",
            "Epoch 37/50\n",
            "35/35 [==============================] - 1s 19ms/step - loss: 0.2385 - accuracy: 0.9380 - val_loss: 0.4612 - val_accuracy: 0.8760\n",
            "Epoch 38/50\n",
            "35/35 [==============================] - 1s 19ms/step - loss: 0.2374 - accuracy: 0.9381 - val_loss: 0.4914 - val_accuracy: 0.8775\n",
            "Epoch 39/50\n",
            "35/35 [==============================] - 1s 19ms/step - loss: 0.2380 - accuracy: 0.9366 - val_loss: 0.4748 - val_accuracy: 0.8672\n",
            "Epoch 40/50\n",
            "35/35 [==============================] - 1s 19ms/step - loss: 0.2425 - accuracy: 0.9375 - val_loss: 0.4670 - val_accuracy: 0.8735\n",
            "Epoch 41/50\n",
            "35/35 [==============================] - 1s 18ms/step - loss: 0.2412 - accuracy: 0.9346 - val_loss: 0.4659 - val_accuracy: 0.8704\n",
            "Epoch 42/50\n",
            "35/35 [==============================] - 1s 19ms/step - loss: 0.2398 - accuracy: 0.9362 - val_loss: 0.4686 - val_accuracy: 0.8745\n",
            "Epoch 43/50\n",
            "35/35 [==============================] - 1s 19ms/step - loss: 0.2366 - accuracy: 0.9378 - val_loss: 0.4881 - val_accuracy: 0.8783\n",
            "Epoch 44/50\n",
            "35/35 [==============================] - 1s 22ms/step - loss: 0.2371 - accuracy: 0.9366 - val_loss: 0.4787 - val_accuracy: 0.8680\n",
            "Epoch 45/50\n",
            "35/35 [==============================] - 1s 19ms/step - loss: 0.2389 - accuracy: 0.9362 - val_loss: 0.5270 - val_accuracy: 0.8764\n",
            "Epoch 46/50\n",
            "35/35 [==============================] - 1s 19ms/step - loss: 0.2398 - accuracy: 0.9360 - val_loss: 0.4853 - val_accuracy: 0.8696\n",
            "Epoch 47/50\n",
            "35/35 [==============================] - 1s 18ms/step - loss: 0.2411 - accuracy: 0.9357 - val_loss: 0.5186 - val_accuracy: 0.8743\n",
            "Epoch 48/50\n",
            "35/35 [==============================] - 1s 18ms/step - loss: 0.2411 - accuracy: 0.9363 - val_loss: 0.5239 - val_accuracy: 0.8761\n",
            "Epoch 49/50\n",
            "35/35 [==============================] - 1s 19ms/step - loss: 0.2380 - accuracy: 0.9366 - val_loss: 0.5181 - val_accuracy: 0.8739\n",
            "Epoch 50/50\n",
            "35/35 [==============================] - 1s 18ms/step - loss: 0.2410 - accuracy: 0.9342 - val_loss: 0.4795 - val_accuracy: 0.8732\n"
          ]
        }
      ]
    },
    {
      "cell_type": "code",
      "source": [
        "his_dic5 = Full_model.history\n",
        "epoch=range(1,51)\n",
        "plt.plot(epoch, his_dic5[\"loss\"], \"o\", label=\"Loss\")\n",
        "plt.plot(epoch, his_dic5[\"val_loss\"], \"--\", label=\"Val_loss\")\n",
        "plt.legend()\n",
        "plt.show()"
      ],
      "metadata": {
        "colab": {
          "base_uri": "https://localhost:8080/",
          "height": 265
        },
        "id": "8__-MGyP3Jrk",
        "outputId": "618efc3c-bba2-4b68-8607-8bd89a59fbb7"
      },
      "execution_count": null,
      "outputs": [
        {
          "output_type": "display_data",
          "data": {
            "text/plain": [
              "<Figure size 432x288 with 1 Axes>"
            ],
            "image/png": "[encoded data removed]"
          },
          "metadata": {
            "needs_background": "light"
          }
        }
      ]
    }
  ]
}