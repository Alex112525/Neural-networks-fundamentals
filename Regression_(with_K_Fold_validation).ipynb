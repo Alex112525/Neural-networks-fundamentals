{
  "nbformat": 4,
  "nbformat_minor": 0,
  "metadata": {
    "colab": {
      "provenance": [],
      "authorship_tag": "ABX9TyNl5Ik+KFU76ztEkmKQllF6",
      "include_colab_link": true
    },
    "kernelspec": {
      "name": "python3",
      "display_name": "Python 3"
    },
    "language_info": {
      "name": "python"
    },
    "accelerator": "GPU",
    "gpuClass": "standard"
  },
  "cells": [
    {
      "cell_type": "markdown",
      "metadata": {
        "id": "view-in-github",
        "colab_type": "text"
      },
      "source": [
        "<a href=\"https://colab.research.google.com/github/Alex112525/Neural-networks-fundamentals/blob/main/Regression_(with_K_Fold_validation).ipynb\" target=\"_parent\"><img src=\"https://colab.research.google.com/assets/colab-badge.svg\" alt=\"Open In Colab\"/></a>"
      ]
    },
    {
      "cell_type": "code",
      "execution_count": null,
      "metadata": {
        "id": "3FWzzJlCUuQU"
      },
      "outputs": [],
      "source": [
        "import pandas as pd\n",
        "import numpy as np\n",
        "import matplotlib.pyplot as plt\n",
        "from keras.datasets import boston_housing\n",
        "from keras import layers, models, optimizers"
      ]
    },
    {
      "cell_type": "markdown",
      "source": [
        "#Import Dataset\n",
        "\n",
        "The Boston Housing dataset is a classic dataset used for regression problem in machine learning. It contains information about the housing values in suburbs of Boston. The data was collected in the late 1970s and consists of 506 samples with 13 features each, including the per capita crime rate, average number of rooms per dwelling, accessibility to highways, property tax rate, etc."
      ],
      "metadata": {
        "id": "yiXa9E6jIgDG"
      }
    },
    {
      "cell_type": "code",
      "source": [
        "(train_data, train_labels), (test_data, test_labels) = boston_housing.load_data()"
      ],
      "metadata": {
        "colab": {
          "base_uri": "https://localhost:8080/"
        },
        "id": "Py8CwkG9axmL",
        "outputId": "6cd3649b-6c97-4967-ed59-9557f1a3be06"
      },
      "execution_count": null,
      "outputs": [
        {
          "output_type": "stream",
          "name": "stdout",
          "text": [
            "Downloading data from https://storage.googleapis.com/tensorflow/tf-keras-datasets/boston_housing.npz\n",
            "57026/57026 [==============================] - 0s 0us/step\n"
          ]
        }
      ]
    },
    {
      "cell_type": "code",
      "source": [
        "train_data.shape"
      ],
      "metadata": {
        "colab": {
          "base_uri": "https://localhost:8080/"
        },
        "id": "LB2O7s_0bEdn",
        "outputId": "d8425928-bf68-4def-d30a-b52d8d5a9fea"
      },
      "execution_count": null,
      "outputs": [
        {
          "output_type": "execute_result",
          "data": {
            "text/plain": [
              "(404, 13)"
            ]
          },
          "metadata": {},
          "execution_count": 3
        }
      ]
    },
    {
      "cell_type": "code",
      "source": [
        "train_data[0]"
      ],
      "metadata": {
        "colab": {
          "base_uri": "https://localhost:8080/"
        },
        "id": "A8hjXWdgbbVN",
        "outputId": "cd950740-3f17-46eb-a143-fb585e1c4868"
      },
      "execution_count": null,
      "outputs": [
        {
          "output_type": "execute_result",
          "data": {
            "text/plain": [
              "array([  1.23247,   0.     ,   8.14   ,   0.     ,   0.538  ,   6.142  ,\n",
              "        91.7    ,   3.9769 ,   4.     , 307.     ,  21.     , 396.9    ,\n",
              "        18.72   ])"
            ]
          },
          "metadata": {},
          "execution_count": 4
        }
      ]
    },
    {
      "cell_type": "code",
      "source": [
        "train_labels[0]"
      ],
      "metadata": {
        "colab": {
          "base_uri": "https://localhost:8080/"
        },
        "id": "B5JvfQmPbd3I",
        "outputId": "51597c47-420d-448e-acf0-2ca9ad10a985"
      },
      "execution_count": null,
      "outputs": [
        {
          "output_type": "execute_result",
          "data": {
            "text/plain": [
              "15.2"
            ]
          },
          "metadata": {},
          "execution_count": 5
        }
      ]
    },
    {
      "cell_type": "markdown",
      "source": [
        "The purpose of normalizing the data is to scale it so that it has zero mean and unit variance. This is done to make the data more suitable for use in machine learning models, as it helps to prevent features with larger scale values from dominating the optimization process. Additionally, normalizing the data helps to stabilize the training process and reduce the chances of numerical instability. By having a more well-behaved dataset, models can converge faster and more reliably."
      ],
      "metadata": {
        "id": "iLqyI47RJBHB"
      }
    },
    {
      "cell_type": "code",
      "source": [
        "## Normalize\n",
        "mean = train_data.mean(axis=0)\n",
        "train_data = train_data - mean\n",
        "std = train_data.std(axis=0)\n",
        "train_data = train_data / std\n",
        "\n",
        "test_data = test_data - mean\n",
        "test_data = test_data / std"
      ],
      "metadata": {
        "id": "GzhoowkBbh1Y"
      },
      "execution_count": null,
      "outputs": []
    },
    {
      "cell_type": "markdown",
      "source": [
        "These lines of code perform zero-mean normalization on the training data. \n",
        "* The first line calculates the mean of the training data along each feature.\n",
        "* The second line subtracts the mean from each feature of the training data, which makes the mean of the resulting data zero. \n",
        "* The third line calculates the standard deviation of the data after subtraction of the mean\n",
        "* and the fourth line divides each feature by its standard deviation, which makes the standard deviation of the resulting data one. \n",
        "\n",
        "This normalization is usually performed to bring all features to the same scale, so that the algorithms that process this data will treat all features equally, and the features with large absolute values will not dominate the algorithms' decision making."
      ],
      "metadata": {
        "id": "9ls0f1nFJPFp"
      }
    },
    {
      "cell_type": "code",
      "source": [
        "train_data[0]"
      ],
      "metadata": {
        "colab": {
          "base_uri": "https://localhost:8080/"
        },
        "id": "_NPnOM5Kdrqg",
        "outputId": "c2835655-c130-4335-fcbb-1b075c1623bc"
      },
      "execution_count": null,
      "outputs": [
        {
          "output_type": "execute_result",
          "data": {
            "text/plain": [
              "array([-0.27224633, -0.48361547, -0.43576161, -0.25683275, -0.1652266 ,\n",
              "       -0.1764426 ,  0.81306188,  0.1166983 , -0.62624905, -0.59517003,\n",
              "        1.14850044,  0.44807713,  0.8252202 ])"
            ]
          },
          "metadata": {},
          "execution_count": 10
        }
      ]
    },
    {
      "cell_type": "markdown",
      "source": [
        "#Build Model"
      ],
      "metadata": {
        "id": "8zZzyFRHJt5_"
      }
    },
    {
      "cell_type": "markdown",
      "source": [
        "MAE stands for Mean Absolute Error. It's a commonly used metric for regression problems. The goal of regression is to predict a continuous value, and the MAE measures the average difference between the actual and predicted values. The formula for MAE is as follows:\n",
        "\n",
        "**MAE = 1/n * Σ |actual_value - predicted_value|**\n",
        "\n",
        "where n is the number of samples and actual_value and predicted_value are the ground truth and the model's prediction respectively.\n",
        "\n",
        "The MAE gives an absolute measure of the difference between the actual and predicted values and is insensitive to the direction of the error (i.e., over- or under-prediction). This makes it a robust metric, but also one that can be harder to interpret than other metrics, such as Mean Squared Error (MSE)."
      ],
      "metadata": {
        "id": "vIF42PqfKCQR"
      }
    },
    {
      "cell_type": "code",
      "source": [
        "def buildModelRegression(input_data, lr_var):\n",
        "  model = models.Sequential()\n",
        "  model.add(layers.Dense(64, activation=\"relu\", input_shape=(input_data,)))\n",
        "  model.add(layers.Dropout(0.5))\n",
        "  model.add(layers.Dense(48, activation=\"relu\"))\n",
        "  model.add(layers.Dropout(0.5))\n",
        "  model.add(layers.Dense(1))\n",
        "  \n",
        "  model.compile(optimizer=optimizers.RMSprop(learning_rate=lr_var),\n",
        "                loss = \"mse\",\n",
        "                metrics = [\"mae\"])\n",
        "  return model "
      ],
      "metadata": {
        "id": "ZGAKvB0qdZAJ"
      },
      "execution_count": null,
      "outputs": []
    },
    {
      "cell_type": "markdown",
      "source": [
        "#Applying K-Fold Cross Validation\n",
        "\n",
        "K-Fold Cross Validation is a model evaluation technique used in Machine Learning to assess the performance of a model. It involves partitioning the original training dataset into k equal parts or folds, training the model on k-1 parts, and evaluating it on the remaining one. \n",
        "\n",
        "This process is repeated k times, each time using a different part for evaluation, and the average performance of the model is calculated based on the results obtained from all k iterations. By evaluating the model on multiple folds, it helps to obtain a more robust estimate of the model's performance, as it covers more data points in the evaluation."
      ],
      "metadata": {
        "id": "8Px9Zv2wLKJC"
      }
    },
    {
      "cell_type": "code",
      "source": [
        "k = 4\n",
        "num_val_samples = len(train_data) // 4 \n",
        "num_epoch = 120\n",
        "all_history = []"
      ],
      "metadata": {
        "id": "tLxbGrM-e4g1"
      },
      "execution_count": null,
      "outputs": []
    },
    {
      "cell_type": "code",
      "source": [
        "for i in range(k):\n",
        "  print(\"Fold: \", i)\n",
        "  val_data = train_data[(i)*num_val_samples : (i+1)*num_val_samples]\n",
        "  val_targets = train_labels[(i)*num_val_samples : (i+1)*num_val_samples]\n",
        "\n",
        "  partial_train_data = np.concatenate([\n",
        "      train_data[:i * num_val_samples],\n",
        "      train_data[(i+1) * num_val_samples:]\n",
        "  ], axis=0)\n",
        "\n",
        "  partial_train_targets = np.concatenate([\n",
        "      train_labels[:i * num_val_samples],\n",
        "      train_labels[(i+1) * num_val_samples:]\n",
        "  ], axis=0)\n",
        "\n",
        "  model = buildModelRegression(13, 0.0006)\n",
        "  his = model.fit(partial_train_data,\n",
        "                  partial_train_targets,\n",
        "                  epochs=num_epoch,\n",
        "                  batch_size=16,\n",
        "                  validation_data=(val_data, val_targets),\n",
        "                  verbose=0)\n",
        "  all_history.append(his.history[\"val_mae\"])"
      ],
      "metadata": {
        "colab": {
          "base_uri": "https://localhost:8080/"
        },
        "id": "AJjabeqvfk96",
        "outputId": "7e0f460e-49eb-4949-b52c-75fcdd6fb916"
      },
      "execution_count": null,
      "outputs": [
        {
          "output_type": "stream",
          "name": "stdout",
          "text": [
            "Fold:  0\n",
            "Fold:  1\n",
            "Fold:  2\n",
            "Fold:  3\n"
          ]
        }
      ]
    },
    {
      "cell_type": "code",
      "source": [
        "all_mae_avg = pd.DataFrame(all_history).mean(axis=0)"
      ],
      "metadata": {
        "id": "m_hXFrrzkEiS"
      },
      "execution_count": null,
      "outputs": []
    },
    {
      "cell_type": "markdown",
      "source": [
        "#Results"
      ],
      "metadata": {
        "id": "tDRv-aqtLUe7"
      }
    },
    {
      "cell_type": "code",
      "source": [
        "fig = plt.figure(figsize=(10,10))\n",
        "del_ = 20\n",
        "plt.plot(range(num_epoch - del_), all_mae_avg[del_:])\n",
        "plt.show()"
      ],
      "metadata": {
        "colab": {
          "base_uri": "https://localhost:8080/",
          "height": 592
        },
        "id": "cHTzBBVtk0bQ",
        "outputId": "07256313-f8d1-4fe3-9b58-1f96a094238e"
      },
      "execution_count": null,
      "outputs": [
        {
          "output_type": "display_data",
          "data": {
            "text/plain": [
              "<Figure size 720x720 with 1 Axes>"
            ],
            "image/png": "[encoded data removed]"
          },
          "metadata": {
            "needs_background": "light"
          }
        }
      ]
    },
    {
      "cell_type": "code",
      "source": [
        "model.evaluate(test_data, test_labels)"
      ],
      "metadata": {
        "colab": {
          "base_uri": "https://localhost:8080/"
        },
        "id": "1UXIW_CEnByQ",
        "outputId": "41d95f9a-9ec5-4ca6-ceef-4278b836aa27"
      },
      "execution_count": null,
      "outputs": [
        {
          "output_type": "stream",
          "name": "stdout",
          "text": [
            "4/4 [==============================] - 0s 3ms/step - loss: 21.9181 - mae: 2.9634\n"
          ]
        },
        {
          "output_type": "execute_result",
          "data": {
            "text/plain": [
              "[21.91806983947754, 2.963371753692627]"
            ]
          },
          "metadata": {},
          "execution_count": 42
        }
      ]
    }
  ]
}