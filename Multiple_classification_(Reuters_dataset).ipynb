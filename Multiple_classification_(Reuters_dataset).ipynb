{
  "nbformat": 4,
  "nbformat_minor": 0,
  "metadata": {
    "colab": {
      "provenance": [],
      "authorship_tag": "ABX9TyOas6RZnvcCnPt3RPB3r56E",
      "include_colab_link": true
    },
    "kernelspec": {
      "name": "python3",
      "display_name": "Python 3"
    },
    "language_info": {
      "name": "python"
    },
    "accelerator": "GPU",
    "gpuClass": "standard"
  },
  "cells": [
    {
      "cell_type": "markdown",
      "metadata": {
        "id": "view-in-github",
        "colab_type": "text"
      },
      "source": [
        "<a href=\"https://colab.research.google.com/github/Alex112525/Neural-networks-fundamentals/blob/main/Multiple_classification_(Reuters_dataset).ipynb\" target=\"_parent\"><img src=\"https://colab.research.google.com/assets/colab-badge.svg\" alt=\"Open In Colab\"/></a>"
      ]
    },
    {
      "cell_type": "code",
      "execution_count": null,
      "metadata": {
        "id": "R0WclOc23bNX"
      },
      "outputs": [],
      "source": [
        "import numpy as np\n",
        "import matplotlib.pyplot as plt\n",
        "from keras import regularizers\n",
        "from keras.datasets import reuters\n",
        "from keras.utils import to_categorical\n",
        "from keras import models, layers, optimizers"
      ]
    },
    {
      "cell_type": "markdown",
      "source": [
        "#Loading Dataset \n",
        "\n",
        "The Reuters dataset from Keras is a collection of newswire articles from the Reuters news agency. It contains 11,228 news articles, which are categorized into 46 different topics. The articles are preprocessed and are represented as sequences of integers, where each integer corresponds to a specific word from a fixed dictionary. The dataset was widely used for text classification and other NLP tasks."
      ],
      "metadata": {
        "id": "YTM0IAawCnzq"
      }
    },
    {
      "cell_type": "code",
      "source": [
        "(train_data, train_labels), (test_data, test_labels) = reuters.load_data(num_words=10000)"
      ],
      "metadata": {
        "colab": {
          "base_uri": "https://localhost:8080/"
        },
        "id": "yikVrBhXIbrP",
        "outputId": "ad9d990d-e3c1-4b59-c800-41839d2310c6"
      },
      "execution_count": null,
      "outputs": [
        {
          "output_type": "stream",
          "name": "stdout",
          "text": [
            "Downloading data from https://storage.googleapis.com/tensorflow/tf-keras-datasets/reuters.npz\n",
            "2110848/2110848 [==============================] - 1s 0us/step\n"
          ]
        }
      ]
    },
    {
      "cell_type": "code",
      "source": [
        "index_words = { key:value for value, key in reuters.get_word_index().items()}\n",
        "index_words"
      ],
      "metadata": {
        "id": "nUi-UBroIh65"
      },
      "execution_count": null,
      "outputs": []
    },
    {
      "cell_type": "code",
      "source": [
        "for i in train_data[4]:\n",
        "  print(index_words.get(i-3), end=\" \")"
      ],
      "metadata": {
        "colab": {
          "base_uri": "https://localhost:8080/"
        },
        "id": "WHrsNI7II5ZU",
        "outputId": "63fb1e62-a1de-4674-edc4-8ed38fad35ee"
      },
      "execution_count": null,
      "outputs": [
        {
          "output_type": "stream",
          "name": "stdout",
          "text": [
            "None seton co said its board has received a proposal from chairman and chief executive officer philip d None to acquire seton for 15 75 dlrs per share in cash seton said the acquisition bid is subject to None arranging the necessary financing it said he intends to ask other members of senior management to participate the company said None owns 30 pct of seton stock and other management members another 7 5 pct seton said it has formed an independent board committee to consider the offer and has deferred the annual meeting it had scheduled for march 31 reuter 3 "
          ]
        }
      ]
    },
    {
      "cell_type": "markdown",
      "source": [
        "The purpose of the function is to perform one-hot encoding of the sequences, which is a common preprocessing step in text classification and NLP tasks. The input parameter dim represents the size of the vocabulary or the number of unique words in the text."
      ],
      "metadata": {
        "id": "uayYI5BuC7l6"
      }
    },
    {
      "cell_type": "code",
      "source": [
        "def vectorize(sequence, dim=10000):\n",
        "  results = np.zeros((len(sequence), dim))\n",
        "  for i, seq in enumerate(sequence):\n",
        "    results[i, seq] = 1\n",
        "  return results"
      ],
      "metadata": {
        "id": "0vSGr8DDJf12"
      },
      "execution_count": null,
      "outputs": []
    },
    {
      "cell_type": "code",
      "source": [
        "x_train = vectorize(train_data)\n",
        "x_test = vectorize(test_data)"
      ],
      "metadata": {
        "id": "v4X5hBKIJsNg"
      },
      "execution_count": null,
      "outputs": []
    },
    {
      "cell_type": "code",
      "source": [
        "y_train = to_categorical(train_labels)\n",
        "y_test = to_categorical(test_labels)"
      ],
      "metadata": {
        "id": "hsyIt70WKRgj"
      },
      "execution_count": null,
      "outputs": []
    },
    {
      "cell_type": "markdown",
      "source": [
        "#Build Model\n",
        "\n"
      ],
      "metadata": {
        "id": "bLOL-WG5C9ok"
      }
    },
    {
      "cell_type": "code",
      "source": [
        "model = models.Sequential()\n",
        "model.add(layers.Dense(64, activation=\"relu\", input_shape = (10000,), kernel_regularizer=regularizers.l1_l2(0.001)))\n",
        "model.add(layers.Dropout(0.5))\n",
        "model.add(layers.Dense(64, activation=\"relu\", kernel_regularizer=regularizers.l2(0.001)))\n",
        "model.add(layers.Dropout(0.4))\n",
        "model.add(layers.Dense(46, activation=\"softmax\"))  #Sofmax es mejor para la clasificacion multiple"
      ],
      "metadata": {
        "id": "V_OcVd0gLrnz"
      },
      "execution_count": null,
      "outputs": []
    },
    {
      "cell_type": "markdown",
      "source": [
        "The softmax function is a function that takes a vector of real numbers and maps it into another vector of real numbers that sums up to 1, so the output can be interpreted as a probability distribution. It's commonly used as the activation function for the output layer in multiclass classification problems.\n",
        "\n",
        "The basic idea behind the softmax function is to raise each element of the input vector to a power and then divide the result by the sum of all the raised elements. This way, the input elements are transformed into positive values, and their sum is equal to 1, allowing them to be interpreted as probabilities."
      ],
      "metadata": {
        "id": "ne7-elh7DRh3"
      }
    },
    {
      "cell_type": "code",
      "source": [
        "model.compile(optimizer=\"rmsprop\",\n",
        "              loss=\"categorical_crossentropy\",\n",
        "              metrics=[\"accuracy\"])"
      ],
      "metadata": {
        "id": "ma8NRGtpNkBC"
      },
      "execution_count": null,
      "outputs": []
    },
    {
      "cell_type": "markdown",
      "source": [
        "The categorical_crossentropy is a loss function used in multi-class classification problems. In such problems, the target variable has multiple classes, and the goal of the model is to predict the correct class for a given input.\n",
        "\n",
        "The categorical_crossentropy loss function measures the dissimilarity between the true label distribution and the predicted label distribution. It calculates the distance between the true one-hot encoded label and the predicted probability distribution. The goal of the optimization process is to minimize this loss function."
      ],
      "metadata": {
        "id": "2RXcLK9EDuyE"
      }
    },
    {
      "cell_type": "markdown",
      "source": [
        "#Train model"
      ],
      "metadata": {
        "id": "VadPlF-TDsMr"
      }
    },
    {
      "cell_type": "code",
      "source": [
        "Model = model.fit(x_train, y_train,\n",
        "                    epochs = 25,\n",
        "                    batch_size=512,\n",
        "                    validation_split=0.3)"
      ],
      "metadata": {
        "colab": {
          "base_uri": "https://localhost:8080/"
        },
        "id": "gYCwe3hFN1zb",
        "outputId": "009cea30-cfb3-4225-bf1c-37e37179847c"
      },
      "execution_count": null,
      "outputs": [
        {
          "output_type": "stream",
          "name": "stdout",
          "text": [
            "Epoch 1/25\n",
            "13/13 [==============================] - 1s 40ms/step - loss: 6.9312 - accuracy: 0.3216 - val_loss: 3.3512 - val_accuracy: 0.5306\n",
            "Epoch 2/25\n",
            "13/13 [==============================] - 0s 21ms/step - loss: 3.0316 - accuracy: 0.4775 - val_loss: 2.5442 - val_accuracy: 0.5432\n",
            "Epoch 3/25\n",
            "13/13 [==============================] - 0s 20ms/step - loss: 2.6435 - accuracy: 0.5111 - val_loss: 2.3696 - val_accuracy: 0.5399\n",
            "Epoch 4/25\n",
            "13/13 [==============================] - 0s 21ms/step - loss: 2.5105 - accuracy: 0.5397 - val_loss: 2.2574 - val_accuracy: 0.6007\n",
            "Epoch 5/25\n",
            "13/13 [==============================] - 0s 21ms/step - loss: 2.3999 - accuracy: 0.5602 - val_loss: 2.2226 - val_accuracy: 0.6093\n",
            "Epoch 6/25\n",
            "13/13 [==============================] - 0s 20ms/step - loss: 2.3373 - accuracy: 0.5845 - val_loss: 2.1884 - val_accuracy: 0.6430\n",
            "Epoch 7/25\n",
            "13/13 [==============================] - 0s 21ms/step - loss: 2.2877 - accuracy: 0.5979 - val_loss: 2.1223 - val_accuracy: 0.6798\n",
            "Epoch 8/25\n",
            "13/13 [==============================] - 0s 21ms/step - loss: 2.2439 - accuracy: 0.6167 - val_loss: 2.0978 - val_accuracy: 0.6850\n",
            "Epoch 9/25\n",
            "13/13 [==============================] - 0s 21ms/step - loss: 2.2086 - accuracy: 0.6218 - val_loss: 2.0980 - val_accuracy: 0.6783\n",
            "Epoch 10/25\n",
            "13/13 [==============================] - 0s 20ms/step - loss: 2.1892 - accuracy: 0.6381 - val_loss: 2.0425 - val_accuracy: 0.6853\n",
            "Epoch 11/25\n",
            "13/13 [==============================] - 0s 21ms/step - loss: 2.1545 - accuracy: 0.6472 - val_loss: 2.0330 - val_accuracy: 0.6902\n",
            "Epoch 12/25\n",
            "13/13 [==============================] - 0s 23ms/step - loss: 2.1302 - accuracy: 0.6542 - val_loss: 1.9894 - val_accuracy: 0.6950\n",
            "Epoch 13/25\n",
            "13/13 [==============================] - 0s 22ms/step - loss: 2.1182 - accuracy: 0.6574 - val_loss: 1.9922 - val_accuracy: 0.6894\n",
            "Epoch 14/25\n",
            "13/13 [==============================] - 0s 26ms/step - loss: 2.0812 - accuracy: 0.6682 - val_loss: 1.9616 - val_accuracy: 0.6991\n",
            "Epoch 15/25\n",
            "13/13 [==============================] - 0s 29ms/step - loss: 2.0716 - accuracy: 0.6674 - val_loss: 1.9581 - val_accuracy: 0.6983\n",
            "Epoch 16/25\n",
            "13/13 [==============================] - 0s 22ms/step - loss: 2.0693 - accuracy: 0.6693 - val_loss: 1.9358 - val_accuracy: 0.7058\n",
            "Epoch 17/25\n",
            "13/13 [==============================] - 0s 31ms/step - loss: 2.0276 - accuracy: 0.6773 - val_loss: 1.9224 - val_accuracy: 0.7061\n",
            "Epoch 18/25\n",
            "13/13 [==============================] - 0s 24ms/step - loss: 2.0301 - accuracy: 0.6774 - val_loss: 1.9382 - val_accuracy: 0.7069\n",
            "Epoch 19/25\n",
            "13/13 [==============================] - 0s 28ms/step - loss: 2.0260 - accuracy: 0.6816 - val_loss: 1.9297 - val_accuracy: 0.7017\n",
            "Epoch 20/25\n",
            "13/13 [==============================] - 0s 28ms/step - loss: 2.0014 - accuracy: 0.6840 - val_loss: 1.9186 - val_accuracy: 0.7072\n",
            "Epoch 21/25\n",
            "13/13 [==============================] - 0s 23ms/step - loss: 2.0075 - accuracy: 0.6840 - val_loss: 1.9127 - val_accuracy: 0.7091\n",
            "Epoch 22/25\n",
            "13/13 [==============================] - 0s 29ms/step - loss: 1.9875 - accuracy: 0.6854 - val_loss: 1.8770 - val_accuracy: 0.7091\n",
            "Epoch 23/25\n",
            "13/13 [==============================] - 0s 23ms/step - loss: 1.9738 - accuracy: 0.6868 - val_loss: 1.9035 - val_accuracy: 0.7054\n",
            "Epoch 24/25\n",
            "13/13 [==============================] - 0s 34ms/step - loss: 1.9775 - accuracy: 0.6887 - val_loss: 1.9386 - val_accuracy: 0.6983\n",
            "Epoch 25/25\n",
            "13/13 [==============================] - 0s 27ms/step - loss: 1.9754 - accuracy: 0.6902 - val_loss: 1.8852 - val_accuracy: 0.7117\n"
          ]
        }
      ]
    },
    {
      "cell_type": "markdown",
      "source": [
        "##Loss graph"
      ],
      "metadata": {
        "id": "y6dOnoKOD6w3"
      }
    },
    {
      "cell_type": "code",
      "source": [
        "his_dic = Model.history\n",
        "epoch=range(1,26)\n",
        "plt.plot(epoch, his_dic[\"loss\"], \"o\", label=\"Loss\")\n",
        "plt.plot(epoch, his_dic[\"val_loss\"], \"--\", label=\"Val_loss\")\n",
        "plt.legend()\n",
        "plt.show()"
      ],
      "metadata": {
        "colab": {
          "base_uri": "https://localhost:8080/",
          "height": 265
        },
        "id": "kDfcWf10OoVi",
        "outputId": "5bb878ce-34b9-4b11-fa71-193763d55648"
      },
      "execution_count": null,
      "outputs": [
        {
          "output_type": "display_data",
          "data": {
            "text/plain": [
              "<Figure size 432x288 with 1 Axes>"
            ],
            "image/png": "[encoded data removed]"
          },
          "metadata": {
            "needs_background": "light"
          }
        }
      ]
    },
    {
      "cell_type": "markdown",
      "source": [
        "##Accuracy graph"
      ],
      "metadata": {
        "id": "m_1S-6ehEEom"
      }
    },
    {
      "cell_type": "code",
      "source": [
        "his_dic = Model.history\n",
        "epoch=range(1,26)\n",
        "plt.plot(epoch, his_dic[\"accuracy\"], \"o\", label=\"Loss\")\n",
        "plt.plot(epoch, his_dic[\"val_accuracy\"], \"--\", label=\"Val_loss\")\n",
        "plt.legend()\n",
        "plt.show()"
      ],
      "metadata": {
        "colab": {
          "base_uri": "https://localhost:8080/",
          "height": 265
        },
        "id": "dyrSE4N9Pj14",
        "outputId": "90d0b319-753a-4c95-9169-759722289458"
      },
      "execution_count": null,
      "outputs": [
        {
          "output_type": "display_data",
          "data": {
            "text/plain": [
              "<Figure size 432x288 with 1 Axes>"
            ],
            "image/png": "[encoded data removed]"
          },
          "metadata": {
            "needs_background": "light"
          }
        }
      ]
    }
  ]
}