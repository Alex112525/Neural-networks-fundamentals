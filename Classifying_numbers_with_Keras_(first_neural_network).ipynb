{
  "nbformat": 4,
  "nbformat_minor": 0,
  "metadata": {
    "colab": {
      "provenance": [],
      "authorship_tag": "ABX9TyNR2l5Kdy3Ijd2EYcbi7kY2",
      "include_colab_link": true
    },
    "kernelspec": {
      "name": "python3",
      "display_name": "Python 3"
    },
    "language_info": {
      "name": "python"
    },
    "accelerator": "GPU",
    "gpuClass": "standard"
  },
  "cells": [
    {
      "cell_type": "markdown",
      "metadata": {
        "id": "view-in-github",
        "colab_type": "text"
      },
      "source": [
        "<a href=\"https://colab.research.google.com/github/Alex112525/Neural-networks-fundamentals/blob/main/Classifying_numbers_with_Keras_(first_neural_network).ipynb\" target=\"_parent\"><img src=\"https://colab.research.google.com/assets/colab-badge.svg\" alt=\"Open In Colab\"/></a>"
      ]
    },
    {
      "cell_type": "code",
      "execution_count": null,
      "metadata": {
        "id": "o3vTLIrv7q5u"
      },
      "outputs": [],
      "source": [
        "import numpy as np\n",
        "from keras import layers, models\n",
        "from keras.utils import to_categorical\n",
        "from keras.datasets import mnist\n",
        "import matplotlib.pyplot as plt "
      ]
    },
    {
      "cell_type": "markdown",
      "source": [
        "# Import the dataset\n",
        "\n",
        "The MNIST (Modified National Institute of Standards and Technology) database is a large database of handwritten digits that is commonly used for training and testing machine learning algorithms. It contains 60,000 training images and 10,000 testing images of handwritten digits, with each image being 28x28 pixels in size."
      ],
      "metadata": {
        "id": "AyQjH5TGD08I"
      }
    },
    {
      "cell_type": "code",
      "source": [
        "(train_data, train_labels), (test_data, test_labels) = mnist.load_data()\n",
        "train_data.shape"
      ],
      "metadata": {
        "colab": {
          "base_uri": "https://localhost:8080/"
        },
        "id": "9B62RZri9g-L",
        "outputId": "c54bd52f-cb8a-4ece-8e20-202bde4dd72b"
      },
      "execution_count": null,
      "outputs": [
        {
          "output_type": "stream",
          "name": "stdout",
          "text": [
            "Downloading data from https://storage.googleapis.com/tensorflow/tf-keras-datasets/mnist.npz\n",
            "11490434/11490434 [==============================] - 1s 0us/step\n"
          ]
        },
        {
          "output_type": "execute_result",
          "data": {
            "text/plain": [
              "(60000, 28, 28)"
            ]
          },
          "metadata": {},
          "execution_count": 4
        }
      ]
    },
    {
      "cell_type": "code",
      "source": [
        "img = 45\n",
        "plt.imshow(train_data[img])\n",
        "print(train_labels[img])"
      ],
      "metadata": {
        "colab": {
          "base_uri": "https://localhost:8080/",
          "height": 282
        },
        "id": "oMVCa4A_98wO",
        "outputId": "fbb721d7-1b1f-4999-9b13-fc79f9176ca8"
      },
      "execution_count": null,
      "outputs": [
        {
          "output_type": "stream",
          "name": "stdout",
          "text": [
            "9\n"
          ]
        },
        {
          "output_type": "display_data",
          "data": {
            "text/plain": [
              "<Figure size 432x288 with 1 Axes>"
            ],
            "image/png": "[encoded data removed]"
          },
          "metadata": {
            "needs_background": "light"
          }
        }
      ]
    },
    {
      "cell_type": "markdown",
      "source": [
        "Change the shape of the tensor to two dimensions, and modify the values to go from 0 to 1"
      ],
      "metadata": {
        "id": "RJDhTLTdBk7j"
      }
    },
    {
      "cell_type": "code",
      "source": [
        "Train = train_data.reshape((60000, 28*28))\n",
        "Train = Train.astype(\"float32\")/255\n",
        "\n",
        "Test = test_data.reshape((10000, 28*28))\n",
        "Test = Test.astype(\"float32\")/255"
      ],
      "metadata": {
        "id": "jNO4EDplBj4g"
      },
      "execution_count": null,
      "outputs": []
    },
    {
      "cell_type": "markdown",
      "source": [
        "Encode the outputs using onehot encoding"
      ],
      "metadata": {
        "id": "z1i5NrcdC4ey"
      }
    },
    {
      "cell_type": "code",
      "source": [
        "Encoding_train = to_categorical(train_labels)\n",
        "Encoding_test = to_categorical(test_labels)\n",
        "Encoding_train[img]"
      ],
      "metadata": {
        "colab": {
          "base_uri": "https://localhost:8080/"
        },
        "id": "AZVX7fNvDDOf",
        "outputId": "e27d4e49-a2f8-4db2-c83f-becabaac025f"
      },
      "execution_count": null,
      "outputs": [
        {
          "output_type": "execute_result",
          "data": {
            "text/plain": [
              "array([0., 0., 0., 0., 0., 0., 0., 0., 0., 1.], dtype=float32)"
            ]
          },
          "metadata": {},
          "execution_count": 22
        }
      ]
    },
    {
      "cell_type": "markdown",
      "source": [
        "#Build Neural Network\n",
        "\n",
        "We build the neural network with an input of 28*28\n",
        "and an output of 10 (the 10 digits of the dataset)."
      ],
      "metadata": {
        "id": "jL8FSjCyCbSX"
      }
    },
    {
      "cell_type": "code",
      "source": [
        "model = models.Sequential()\n",
        "model.add(layers.Dense(512, activation=\"relu\", input_shape=(28*28,)))\n",
        "model.add(layers.Dense(10, activation=\"softmax\", ))"
      ],
      "metadata": {
        "id": "LLu9UPZt_RbB"
      },
      "execution_count": null,
      "outputs": []
    },
    {
      "cell_type": "markdown",
      "source": [
        "The **compile** method takes the following arguments:\n",
        "\n",
        "* optimizer: This is the optimization algorithm that the model will use to adjust its weights during training. \n",
        "  * In this case, it's set to \"rmsprop\", which is a variant of the gradient descent algorithm.\n",
        "\n",
        "* loss: This argument specifies the loss function that the model will use to evaluate its performance during training. \n",
        "  * In this case, it's set to \"categorical_crossentropy\", which is a commonly used loss function for multiclass classification problems.\n",
        "\n",
        "* metrics: This argument specifies the metric(s) that the model will use to evaluate its performance during training and testing. \n",
        "  * In this case, it's set to \"accuracy\", which is a commonly used metric for evaluating the accuracy of a classifier."
      ],
      "metadata": {
        "id": "dX563XhCuVr4"
      }
    },
    {
      "cell_type": "code",
      "source": [
        "model.compile(optimizer = \"rmsprop\", \n",
        "              loss=\"categorical_crossentropy\", \n",
        "              metrics=\"accuracy\")"
      ],
      "metadata": {
        "id": "r6zXbTK2ALKz"
      },
      "execution_count": null,
      "outputs": []
    },
    {
      "cell_type": "markdown",
      "source": [
        "The summary() function is used to create a summary protocol buffer that contains metadata for a TensorFlow computation graph."
      ],
      "metadata": {
        "id": "695HK_PdthyK"
      }
    },
    {
      "cell_type": "code",
      "source": [
        "model.summary()"
      ],
      "metadata": {
        "colab": {
          "base_uri": "https://localhost:8080/"
        },
        "id": "POTVotipAkSv",
        "outputId": "9b899464-ff53-4a8e-dd5e-b64adce99b44"
      },
      "execution_count": null,
      "outputs": [
        {
          "output_type": "stream",
          "name": "stdout",
          "text": [
            "Model: \"sequential_1\"\n",
            "_________________________________________________________________\n",
            " Layer (type)                Output Shape              Param #   \n",
            "=================================================================\n",
            " dense (Dense)               (None, 512)               401920    \n",
            "                                                                 \n",
            " dense_1 (Dense)             (None, 10)                5130      \n",
            "                                                                 \n",
            "=================================================================\n",
            "Total params: 407,050\n",
            "Trainable params: 407,050\n",
            "Non-trainable params: 0\n",
            "_________________________________________________________________\n"
          ]
        }
      ]
    },
    {
      "cell_type": "markdown",
      "source": [
        "#Train\n",
        "\n",
        "The inputs to the fit method are:\n",
        "\n",
        "* Train: The training data, typically a NumPy array or a pandas dataframe.\n",
        "* Encoding_train: The target or label data for the training set, typically also a NumPy array or a pandas dataframe.\n",
        "* epochs: The number of iterations the model will train for.\n",
        "* batch_size: The number of samples per gradient update for the model to use when training.\n",
        "\n",
        "So, in this case, the model will train for 5 epochs, with a batch size of 128, using the rmsprop optimizer and the categorical cross-entropy loss function."
      ],
      "metadata": {
        "id": "AlgXDiQTD78E"
      }
    },
    {
      "cell_type": "code",
      "source": [
        "model.fit(Train, Encoding_train, epochs=5, batch_size=128)"
      ],
      "metadata": {
        "colab": {
          "base_uri": "https://localhost:8080/"
        },
        "id": "BhIPCHsAA_1A",
        "outputId": "00b43caa-7f2f-470a-8711-99d4e8553e79"
      },
      "execution_count": null,
      "outputs": [
        {
          "output_type": "stream",
          "name": "stdout",
          "text": [
            "Epoch 1/5\n",
            "469/469 [==============================] - 4s 3ms/step - loss: 0.2537 - accuracy: 0.9254\n",
            "Epoch 2/5\n",
            "469/469 [==============================] - 2s 3ms/step - loss: 0.1047 - accuracy: 0.9686\n",
            "Epoch 3/5\n",
            "469/469 [==============================] - 2s 3ms/step - loss: 0.0684 - accuracy: 0.9793\n",
            "Epoch 4/5\n",
            "469/469 [==============================] - 2s 3ms/step - loss: 0.0501 - accuracy: 0.9848\n",
            "Epoch 5/5\n",
            "469/469 [==============================] - 2s 3ms/step - loss: 0.0373 - accuracy: 0.9890\n"
          ]
        },
        {
          "output_type": "execute_result",
          "data": {
            "text/plain": [
              "<keras.callbacks.History at 0x7f06366831f0>"
            ]
          },
          "metadata": {},
          "execution_count": 24
        }
      ]
    },
    {
      "cell_type": "markdown",
      "source": [
        "#Evaluate \n",
        "\n",
        "Accuracy is a commonly used metric in machine learning to evaluate the performance of a model on a dataset. It measures the fraction of predictions made by the model that are correct. It is a popular choice for supervised learning problems with a balanced dataset, where each class has roughly equal numbers of samples."
      ],
      "metadata": {
        "id": "A6NP9AwAvoC0"
      }
    },
    {
      "cell_type": "code",
      "source": [
        "model.evaluate(Test, Encoding_test)"
      ],
      "metadata": {
        "colab": {
          "base_uri": "https://localhost:8080/"
        },
        "id": "KLQXBzbqEdwF",
        "outputId": "30b1d61d-dbfa-4686-94b9-623e1f946b9b"
      },
      "execution_count": null,
      "outputs": [
        {
          "output_type": "stream",
          "name": "stdout",
          "text": [
            "313/313 [==============================] - 1s 3ms/step - loss: 0.0761 - accuracy: 0.9773\n"
          ]
        },
        {
          "output_type": "execute_result",
          "data": {
            "text/plain": [
              "[0.07606951892375946, 0.9772999882698059]"
            ]
          },
          "metadata": {},
          "execution_count": 25
        }
      ]
    }
  ]
}